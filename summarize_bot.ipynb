{
  "nbformat": 4,
  "nbformat_minor": 0,
  "metadata": {
    "colab": {
      "provenance": [],
      "authorship_tag": "ABX9TyODDUN4qQ6F0/ugZR8nOWRd",
      "include_colab_link": true
    },
    "kernelspec": {
      "name": "python3",
      "display_name": "Python 3"
    },
    "language_info": {
      "name": "python"
    }
  },
  "cells": [
    {
      "cell_type": "markdown",
      "metadata": {
        "id": "view-in-github",
        "colab_type": "text"
      },
      "source": [
        "<a href=\"https://colab.research.google.com/github/Suriyakrishnansuriya/Assessment2B.pyplot/blob/main/summarize_bot.ipynb\" target=\"_parent\"><img src=\"https://colab.research.google.com/assets/colab-badge.svg\" alt=\"Open In Colab\"/></a>"
      ]
    },
    {
      "cell_type": "code",
      "execution_count": 1,
      "metadata": {
        "colab": {
          "base_uri": "https://localhost:8080/"
        },
        "id": "Sx28r97iPJyx",
        "outputId": "e3faa16a-6913-4424-f64e-468c865d41bb"
      },
      "outputs": [
        {
          "output_type": "stream",
          "name": "stdout",
          "text": [
            "Requirement already satisfied: nltk in /usr/local/lib/python3.10/dist-packages (3.8.1)\n",
            "Requirement already satisfied: click in /usr/local/lib/python3.10/dist-packages (from nltk) (8.1.7)\n",
            "Requirement already satisfied: joblib in /usr/local/lib/python3.10/dist-packages (from nltk) (1.3.2)\n",
            "Requirement already satisfied: regex>=2021.8.3 in /usr/local/lib/python3.10/dist-packages (from nltk) (2023.6.3)\n",
            "Requirement already satisfied: tqdm in /usr/local/lib/python3.10/dist-packages (from nltk) (4.66.1)\n"
          ]
        }
      ],
      "source": [
        "pip install nltk"
      ]
    },
    {
      "cell_type": "code",
      "source": [
        "import nltk\n",
        "from nltk.corpus import stopwords\n",
        "from nltk.tokenize import sent_tokenize\n",
        "from nltk.probability import FreqDist\n",
        "import spacy\n",
        "from heapq import nlargest\n",
        "nltk.download('punkt')\n",
        "nltk.download('stopwords')\n"
      ],
      "metadata": {
        "colab": {
          "base_uri": "https://localhost:8080/"
        },
        "id": "t-T6kYC5PlEp",
        "outputId": "b8b6e584-8a2e-4f91-86d6-95e10f32d318"
      },
      "execution_count": 48,
      "outputs": [
        {
          "output_type": "stream",
          "name": "stderr",
          "text": [
            "[nltk_data] Downloading package punkt to /root/nltk_data...\n",
            "[nltk_data]   Package punkt is already up-to-date!\n",
            "[nltk_data] Downloading package stopwords to /root/nltk_data...\n",
            "[nltk_data]   Package stopwords is already up-to-date!\n"
          ]
        },
        {
          "output_type": "execute_result",
          "data": {
            "text/plain": [
              "True"
            ]
          },
          "metadata": {},
          "execution_count": 48
        }
      ]
    },
    {
      "cell_type": "code",
      "source": [
        "def summarize(input_text):\n",
        "  sentences=sent_tokenize(input_text)\n",
        "  stop_words =set(stopwords.words('english'))\n",
        "  word_freq= FreqDist(nltk.word_tokenize(input_text))\n",
        "  sentence_scores={}\n",
        "  for sentence in sentences:\n",
        "    for word in nltk.word_tokenize(sentence.lower()):\n",
        "      if word not in stop_words:\n",
        "        if sentence not in sentence_scores:\n",
        "          sentence_scores[sentence]=word_freq[word]\n",
        "        else:\n",
        "          sentence_scores[sentence]+=word_freq[word]\n",
        "\n",
        "  summary_sentences= nlargest(50, sentence_scores, key=sentence_scores.get)\n",
        "  summary= ''.join(summary_sentences)\n",
        "  return summary\n",
        "user= input()\n",
        "summary= summarize(user)\n",
        "print(summary)"
      ],
      "metadata": {
        "colab": {
          "base_uri": "https://localhost:8080/"
        },
        "id": "2CluLnrZQZro",
        "outputId": "62f60ee4-7822-4a31-9cf7-8635df177db5"
      },
      "execution_count": 51,
      "outputs": [
        {
          "output_type": "stream",
          "name": "stdout",
          "text": [
            "Laurie: So, what are your plans for this weekend? Christie: I don’t know. Do you want to get together or something? Sarah: How about going to see a movie? Cinemax 26 on Carson Boulevard is showing Enchanted. Laurie: That sounds like a good idea. Maybe we should go out to eat beforehand. Sarah: It is fine with me. Where do you want to meet? Christie: Let’s meet at Summer Pizza House. I have not gone there for a long time. Laurie: Good idea again. I heard they just came up with a new pizza. It should be good because Summer Pizza House always has the best pizza in town.\n",
            "Laurie: That sounds like a good idea.Christie: Let’s meet at Summer Pizza House.Laurie: Good idea again.Christie: I don’t know.It should be good because Summer Pizza House always has the best pizza in town.Sarah: It is fine with me.I heard they just came up with a new pizza.Laurie: So, what are your plans for this weekend?Sarah: How about going to see a movie?Maybe we should go out to eat beforehand.I have not gone there for a long time.Cinemax 26 on Carson Boulevard is showing Enchanted.Do you want to get together or something?Where do you want to meet?\n"
          ]
        }
      ]
    }
  ]
}